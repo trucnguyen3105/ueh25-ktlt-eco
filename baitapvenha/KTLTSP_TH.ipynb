{
  "cells": [
    {
      "cell_type": "markdown",
      "metadata": {
        "id": "view-in-github",
        "colab_type": "text"
      },
      "source": [
        "<a href=\"https://colab.research.google.com/github/trucnguyen3105/ueh25-ktlt-eco/blob/main/baitapvenha/KTLTSP_TH.ipynb\" target=\"_parent\"><img src=\"https://colab.research.google.com/assets/colab-badge.svg\" alt=\"Open In Colab\"/></a>"
      ]
    },
    {
      "cell_type": "markdown",
      "id": "6fd99eb5",
      "metadata": {
        "id": "6fd99eb5"
      },
      "source": [
        "# *CÁC THÀNH PHẦN CƠ BẢN CỦA PYTHON*\n",
        "\n"
      ]
    },
    {
      "cell_type": "markdown",
      "id": "ec333421",
      "metadata": {
        "id": "ec333421"
      },
      "source": [
        "# BÀI TẬP MẪU — Bài 1: InChuoi\n",
        "\n",
        "In 2 dòng chữ theo đề."
      ]
    },
    {
      "cell_type": "code",
      "execution_count": null,
      "id": "25171a5b",
      "metadata": {
        "id": "25171a5b"
      },
      "outputs": [],
      "source": [
        "def in_chuoi():\n",
        "    print(\"Whoever is happy will make others happy too\")\n",
        "    print(\"--Anne Frank\")\n",
        "\n",
        "# Ví dụ\n",
        "in_chuoi()\n"
      ]
    },
    {
      "cell_type": "markdown",
      "id": "c2f898d8",
      "metadata": {
        "id": "c2f898d8"
      },
      "source": [
        "# BÀI TẬP MẪU — Bài 2: BieuThuc\n",
        "\n",
        "Nhập a, b nguyên. In A+B, A-B, A*B, A//B, A%B, A/B (làm tròn 2 số lẻ)."
      ]
    },
    {
      "cell_type": "code",
      "execution_count": null,
      "id": "0d14ed1a",
      "metadata": {
        "id": "0d14ed1a"
      },
      "outputs": [],
      "source": [
        "def bieu_thuc(a:int, b:int):\n",
        "    kqCong = a + b\n",
        "    kqTru = a - b\n",
        "    kqNhan = a * b\n",
        "    kqChiaNguyen = a // b\n",
        "    kqDu = a % b\n",
        "    kqChiaThuc = a / b\n",
        "    print(\"Cac ket qua tinh toan:\")\n",
        "    print(\"%-5d + %5d = %5d\"%(a, b, kqCong))\n",
        "    print(\"%-5d - %5d = %5d\"%(a, b, kqTru))\n",
        "    print(\"%-5d * %5d = %5d\"%(a, b, kqNhan))\n",
        "    print(\"%-5d / %5d = %5d\"%(a, b, kqChiaNguyen))\n",
        "    print(\"%-5d %% %5d = %5d\"%(a, b, kqDu))\n",
        "    print(\"%-5d / %5d = %5.2f\"%(a, b, kqChiaThuc))\n",
        "\n",
        "# Ví dụ\n",
        "bieu_thuc(5, 6)\n"
      ]
    },
    {
      "cell_type": "markdown",
      "id": "2697e61f",
      "metadata": {
        "id": "2697e61f"
      },
      "source": [
        "# BÀI TẬP MẪU — Bài 3: SoSanh\n",
        "\n",
        "Ước lượng các biểu thức so sánh cho số thực a, b (in 2 số lẻ)."
      ]
    },
    {
      "cell_type": "code",
      "execution_count": null,
      "id": "06a89067",
      "metadata": {
        "id": "06a89067"
      },
      "outputs": [],
      "source": [
        "def so_sanh(a: float, b: float):\n",
        "    print(\"Ket qua so sanh hai so thuc %.2f va %.2f:\"%(a, b))\n",
        "    print(\"%-8.2f <  %8.2f: %8s\"%(a, b, a < b))\n",
        "    print(\"%-8.2f <= %8.2f: %8s\"%(a, b, a <= b))\n",
        "    print(\"%-8.2f  > %8.2f: %8s\"%(a, b, a > b))\n",
        "    print(\"%-8.2f >= %8.2f: %8s\"%(a, b, a >= b))\n",
        "    print(\"%-8.2f == %8.2f: %8s\"%(a, b, a == b))\n",
        "    print(\"%-8.2f != %8.2f: %8s\"%(a, b, a != b))\n",
        "\n",
        "# Ví dụ\n",
        "so_sanh(2.5, 6.8)\n"
      ]
    },
    {
      "cell_type": "markdown",
      "id": "fd5c04f3",
      "metadata": {
        "id": "fd5c04f3"
      },
      "source": [
        "# BÀI TẬP MẪU — Bài 4: HamSo\n",
        "\n",
        "Tính f(x) = x + x^5/(1·2·3·4·5) + sqrt(|x|)/x^(3/2). Chú ý x ≠ 0 trong hạng sqrt(|x|)/x^(3/2)."
      ]
    },
    {
      "cell_type": "code",
      "execution_count": null,
      "id": "f7653fb8",
      "metadata": {
        "id": "f7653fb8"
      },
      "outputs": [],
      "source": [
        "import math\n",
        "\n",
        "def ham_so(x: float):\n",
        "    fx = x + (x**5)/(1*2*3*4*5)\n",
        "    if x == 0:\n",
        "        raise ZeroDivisionError(\"Thành phần sqrt(|x|)/x^(3/2) không xác định tại x=0.\")\n",
        "    fx += math.sqrt(abs(x)) / (x**(3.0/2))\n",
        "    return fx\n",
        "\n",
        "# Ví dụ\n",
        "x = 2.3\n",
        "print(f\"Gia tri cua ham so f({x:.2f}) = {ham_so(x):.2f}.\")\n"
      ]
    },
    {
      "cell_type": "markdown",
      "id": "d01310fc",
      "metadata": {
        "id": "d01310fc"
      },
      "source": [
        "# BÀI TẬP MẪU — Bài 5: TongChuSo (n có 4 chữ số)\n",
        "\n",
        "Tính tổng các chữ số của n (1000 ≤ n ≤ 9999)."
      ]
    },
    {
      "cell_type": "code",
      "execution_count": null,
      "id": "99b7076a",
      "metadata": {
        "id": "99b7076a"
      },
      "outputs": [],
      "source": [
        "def tong_chu_so_4(n:int):\n",
        "    assert 1000 <= n <= 9999, \"n phải có đúng 4 chữ số\"\n",
        "    s = sum(int(ch) for ch in str(n))\n",
        "    print(f\"{n} = {' + '.join(list(str(n)))} = {s}.\")\n",
        "    return s\n",
        "\n",
        "# Ví dụ\n",
        "tong_chu_so_4(1234)\n"
      ]
    },
    {
      "cell_type": "markdown",
      "id": "4430f3e1",
      "metadata": {
        "id": "4430f3e1"
      },
      "source": [
        "# BÀI TẬP THỰC HÀNH — Bài 1: InNhan\n",
        "\n",
        "In nhãn nhiều dòng theo mẫu."
      ]
    },
    {
      "cell_type": "code",
      "execution_count": null,
      "id": "d7f75a7c",
      "metadata": {
        "id": "d7f75a7c"
      },
      "outputs": [],
      "source": [
        "def in_nhan(ho_ten: str = \"\"):\n",
        "    print(\"*\" * 26)\n",
        "    print(\"* %-20s *\" % \"Truong: Dai Hoc UEH\")\n",
        "    print(\"* %-20s *\" % \"Khoa: CNTT\")\n",
        "    print(\"* %-20s *\" % f\"Ho ten: {ho_ten}\")\n",
        "    print(\"*\" * 26)\n",
        "\n",
        "# Ví dụ\n",
        "in_nhan(\"Nguyen Van A\")\n"
      ]
    },
    {
      "cell_type": "markdown",
      "id": "5cb2d881",
      "metadata": {
        "id": "5cb2d881"
      },
      "source": [
        "# BÀI TẬP THỰC HÀNH — Bài 2: HinhTron\n",
        "\n",
        "Nhập R, tính S=3.14*R^2 và P=2*3.14*R. In 1 số lẻ."
      ]
    },
    {
      "cell_type": "code",
      "execution_count": null,
      "id": "1a59dad3",
      "metadata": {
        "id": "1a59dad3"
      },
      "outputs": [],
      "source": [
        "def hinh_tron(R: float):\n",
        "    S = 3.14 * (R**2)\n",
        "    P = 2 * 3.14 * R\n",
        "    print(f\"Dien tich S = {S:.1f}\")\n",
        "    print(f\"Chu vi P = {P:.1f}\")\n",
        "    return S, P\n",
        "\n",
        "# Ví dụ\n",
        "hinh_tron(5)\n"
      ]
    },
    {
      "cell_type": "markdown",
      "id": "9a3d4730",
      "metadata": {
        "id": "9a3d4730"
      },
      "source": [
        "# BÀI TẬP THỰC HÀNH — Bài 3: DoiSangGiay\n",
        "\n",
        "Đổi h:m:s sang tổng số giây."
      ]
    },
    {
      "cell_type": "code",
      "execution_count": null,
      "id": "8fa71d0d",
      "metadata": {
        "id": "8fa71d0d"
      },
      "outputs": [],
      "source": [
        "def hms_to_seconds(h:int, m:int, s:int):\n",
        "    return h*3600 + m*60 + s\n",
        "\n",
        "# Ví dụ\n",
        "print(f\"Tong so giay cua 1:20:10 la {hms_to_seconds(1,20,10)} giay\")\n"
      ]
    },
    {
      "cell_type": "markdown",
      "id": "dd6c6c62",
      "metadata": {
        "id": "dd6c6c62"
      },
      "source": [
        "# BÀI TẬP THỰC HÀNH — Bài 4: DoiSangGioPhutGiay\n",
        "\n",
        "Đổi tổng số giây t sang dạng h:m:s."
      ]
    },
    {
      "cell_type": "code",
      "execution_count": null,
      "id": "47ffaf01",
      "metadata": {
        "id": "47ffaf01"
      },
      "outputs": [],
      "source": [
        "def seconds_to_hms(t:int):\n",
        "    h = t // 3600\n",
        "    t %= 3600\n",
        "    m = t // 60\n",
        "    s = t % 60\n",
        "    return h, m, s\n",
        "\n",
        "# Ví dụ\n",
        "print(\"4810 giay co dang %d:%d:%d\" % seconds_to_hms(4810))\n"
      ]
    },
    {
      "cell_type": "markdown",
      "id": "e018428e",
      "metadata": {
        "id": "e018428e"
      },
      "source": [
        "# BÀI TẬP THỰC HÀNH — Bài 5: DienTichTamGiac (Heron)\n",
        "\n",
        "S = sqrt(p(p-a)(p-b)(p-c)), p=(a+b+c)/2. In 2 số lẻ."
      ]
    },
    {
      "cell_type": "code",
      "execution_count": null,
      "id": "d2081a8d",
      "metadata": {
        "id": "d2081a8d"
      },
      "outputs": [],
      "source": [
        "import math\n",
        "\n",
        "def dien_tich_tam_giac(a: float, b: float, c: float):\n",
        "    # Kiểm tra tam giác hợp lệ\n",
        "    if a + b <= c or a + c <= b or b + c <= a:\n",
        "        raise ValueError(\"Ba cạnh không tạo thành tam giác\")\n",
        "    p = (a + b + c) / 2\n",
        "    S = math.sqrt(p*(p-a)*(p-b)*(p-c))\n",
        "    print(f\"Dien tich tam giac S = {S:.2f}\")\n",
        "    return S\n",
        "\n",
        "# Ví dụ\n",
        "dien_tich_tam_giac(2,4,3)\n"
      ]
    },
    {
      "cell_type": "markdown",
      "id": "9bb68a72",
      "metadata": {
        "id": "9bb68a72"
      },
      "source": [
        "# BÀI TẬP THỰC HÀNH — Bài 6: TinhMu\n",
        "\n",
        "Nhập a thực, n nguyên. Tính a^n (hỗ trợ n âm)."
      ]
    },
    {
      "cell_type": "code",
      "execution_count": null,
      "id": "d545293c",
      "metadata": {
        "id": "d545293c"
      },
      "outputs": [],
      "source": [
        "def luy_thua(a: float, n: int):\n",
        "    if n == 0:\n",
        "        return 1.0\n",
        "    if n > 0:\n",
        "        ans = 1.0\n",
        "        for _ in range(n):\n",
        "            ans *= a\n",
        "        return ans\n",
        "    # n < 0\n",
        "    return 1.0 / luy_thua(a, -n)\n",
        "\n",
        "# Ví dụ\n",
        "print(\"Ket qua 2^4 =\", luy_thua(2,4))\n"
      ]
    },
    {
      "cell_type": "markdown",
      "id": "141dfd87",
      "metadata": {
        "id": "141dfd87"
      },
      "source": [
        "# BÀI TẬP THỰC HÀNH — Bài 7: DaoSo (4 chữ số)\n",
        "\n",
        "Đảo số 4 chữ số x → y."
      ]
    },
    {
      "cell_type": "code",
      "execution_count": null,
      "id": "8af29f71",
      "metadata": {
        "id": "8af29f71"
      },
      "outputs": [],
      "source": [
        "def dao_so_4(x:int):\n",
        "    assert 1000 <= x <= 9999, \"x phải có đúng 4 chữ số\"\n",
        "    y = int(str(x)[::-1])\n",
        "    return y\n",
        "\n",
        "# Ví dụ\n",
        "print(\"x=1234 -> y=\", dao_so_4(1234))\n"
      ]
    },
    {
      "cell_type": "markdown",
      "id": "de9d0a82",
      "metadata": {
        "id": "de9d0a82"
      },
      "source": [
        "# BÀI TẬP THỰC HÀNH — Bài 8: DoSangRadian\n",
        "\n",
        "Chuyển độ → radian: rad = deg * pi / 180."
      ]
    },
    {
      "cell_type": "code",
      "execution_count": null,
      "id": "6fa474f9",
      "metadata": {
        "id": "6fa474f9"
      },
      "outputs": [],
      "source": [
        "import math\n",
        "\n",
        "def deg_to_rad(deg: float):\n",
        "    return deg * math.pi / 180.0\n",
        "\n",
        "# Ví dụ\n",
        "print(\"90 do = \", deg_to_rad(90))\n"
      ]
    },
    {
      "cell_type": "markdown",
      "id": "75aced8a",
      "metadata": {
        "id": "75aced8a"
      },
      "source": [
        "# BÀI TẬP THỰC HÀNH — Bài 9: HamSo1 (TODO)\n",
        "\n",
        "**Thiếu công thức trong PDF** — Vui lòng bổ sung biểu thức để hoàn thiện bài.\n",
        "\n",
        "Mẫu khung hàm (sửa biểu thức ở dòng tính y1, y):"
      ]
    },
    {
      "cell_type": "code",
      "execution_count": null,
      "id": "4d613015",
      "metadata": {
        "id": "4d613015"
      },
      "outputs": [],
      "source": [
        "# TODO: điền công thức chính xác theo đề\n",
        "def ham_so1(x: float):\n",
        "    # Ví dụ minh họa (tạm thời):\n",
        "    y1 = x**2 + 2*x + 1  # <-- thay bằng công thức đúng\n",
        "    y  = x**3 - x        # <-- thay bằng công thức đúng\n",
        "    return round(y1, 2), round(y, 2)\n",
        "\n",
        "# Ví dụ minh họa\n",
        "ham_so1(2.0)\n"
      ]
    },
    {
      "cell_type": "markdown",
      "id": "551d8e59",
      "metadata": {
        "id": "551d8e59"
      },
      "source": [
        "# BÀI TẬP THỰC HÀNH — Bài 10: KhoangCach\n",
        "\n",
        "Khoảng cách giữa A(x1,y1), B(x2,y2)."
      ]
    },
    {
      "cell_type": "code",
      "execution_count": null,
      "id": "6ca54ac5",
      "metadata": {
        "id": "6ca54ac5"
      },
      "outputs": [],
      "source": [
        "import math\n",
        "\n",
        "def khoang_cach(x1: float, y1: float, x2: float, y2: float):\n",
        "    return math.hypot(x2 - x1, y2 - y1)\n",
        "\n",
        "# Ví dụ\n",
        "print(\"KC A(0,0), B(3,4) =\", khoang_cach(0,0,3,4))\n"
      ]
    },
    {
      "cell_type": "markdown",
      "id": "b51a0da7",
      "metadata": {
        "id": "b51a0da7"
      },
      "source": [
        "# CẤU TRÚC ĐIỀU KIỆN — Bài 1: Max3Num\n",
        "\n",
        "Tìm max của 3 số nguyên a, b, c."
      ]
    },
    {
      "cell_type": "code",
      "execution_count": null,
      "id": "5e932bd6",
      "metadata": {
        "id": "5e932bd6"
      },
      "outputs": [],
      "source": [
        "def max3(a:int, b:int, c:int):\n",
        "    vmax = a if a > b else b\n",
        "    if c > vmax:\n",
        "        vmax = c\n",
        "    return vmax\n",
        "\n",
        "# Ví dụ\n",
        "print(\"Max(2,5,4) =\", max3(2,5,4))\n"
      ]
    },
    {
      "cell_type": "markdown",
      "id": "23b60b6a",
      "metadata": {
        "id": "23b60b6a"
      },
      "source": [
        "# CẤU TRÚC ĐIỀU KIỆN — Bài 2: Sort3Num\n",
        "\n",
        "Sắp xếp a, b, c tăng dần."
      ]
    },
    {
      "cell_type": "code",
      "execution_count": null,
      "id": "21e7dd55",
      "metadata": {
        "id": "21e7dd55"
      },
      "outputs": [],
      "source": [
        "def sort3(a:int, b:int, c:int):\n",
        "    x = [a,b,c]\n",
        "    x.sort()\n",
        "    return tuple(x)\n",
        "\n",
        "# Ví dụ\n",
        "print(\"Sort(4,2,3) =\", sort3(4,2,3))\n"
      ]
    },
    {
      "cell_type": "markdown",
      "id": "06f97b7f",
      "metadata": {
        "id": "06f97b7f"
      },
      "source": [
        "# CẤU TRÚC ĐIỀU KIỆN — Bài 3: SolveEq1Deg\n",
        "\n",
        "Giải ax + b = 0."
      ]
    },
    {
      "cell_type": "code",
      "execution_count": null,
      "id": "1ce5405d",
      "metadata": {
        "id": "1ce5405d"
      },
      "outputs": [],
      "source": [
        "def solve_1deg(a: float, b: float):\n",
        "    if a == 0 and b == 0:\n",
        "        return (\"unlimited\", None)\n",
        "    if a == 0 and b != 0:\n",
        "        return (\"none\", None)\n",
        "    x = -b / a\n",
        "    return (\"one\", x)\n",
        "\n",
        "# Ví dụ\n",
        "for a,b in [(1,5),(0,0),(0,10)]:\n",
        "    kind, x = solve_1deg(a,b)\n",
        "    if kind == \"unlimited\":\n",
        "        print(f\"{a:.2f}x + {b:.2f} = 0: unlimited solutions\")\n",
        "    elif kind == \"none\":\n",
        "        print(f\"{a:.2f}x + {b:.2f} = 0: no solution\")\n",
        "    else:\n",
        "        print(f\"{a:.2f}x + {b:.2f} = 0: x = {x:.2f}\")\n"
      ]
    },
    {
      "cell_type": "markdown",
      "id": "af90a825",
      "metadata": {
        "id": "af90a825"
      },
      "source": [
        "# CẤU TRÚC ĐIỀU KIỆN — Bài 4: TotalDayYear\n",
        "\n",
        "Cho biết năm có 365 hay 366 ngày."
      ]
    },
    {
      "cell_type": "code",
      "execution_count": null,
      "id": "853c7523",
      "metadata": {
        "id": "853c7523"
      },
      "outputs": [],
      "source": [
        "def is_leap(y:int):\n",
        "    return (y%400==0) or (y%4==0 and y%100!=0)\n",
        "\n",
        "def days_in_year(y:int):\n",
        "    return 366 if is_leap(y) else 365\n",
        "\n",
        "# Ví dụ\n",
        "for y in [1992,2000,1997]:\n",
        "    print(y, days_in_year(y))\n"
      ]
    },
    {
      "cell_type": "markdown",
      "id": "c8d2b4e6",
      "metadata": {
        "id": "c8d2b4e6"
      },
      "source": [
        "# CẤU TRÚC ĐIỀU KIỆN — Bài 5: Calculation\n",
        "\n",
        "Tính theo phép toán (+,-,*,/). Chặn chia cho 0."
      ]
    },
    {
      "cell_type": "code",
      "execution_count": null,
      "id": "a2912154",
      "metadata": {
        "id": "a2912154"
      },
      "outputs": [],
      "source": [
        "def calculation(a: float, b: float, op: str):\n",
        "    if op == '+':\n",
        "        return a + b\n",
        "    elif op == '-':\n",
        "        return a - b\n",
        "    elif op == '*':\n",
        "        return a * b\n",
        "    elif op == '/':\n",
        "        if b == 0:\n",
        "            return None\n",
        "        return a / b\n",
        "    else:\n",
        "        raise ValueError(\"Phép toán không hỗ trợ\")\n",
        "\n",
        "# Ví dụ\n",
        "print(\"8 + 3 =\", calculation(8,3,'+'))\n"
      ]
    },
    {
      "cell_type": "markdown",
      "id": "dfec8c82",
      "metadata": {
        "id": "dfec8c82"
      },
      "source": [
        "# CẤU TRÚC ĐIỀU KIỆN — Bài 6: ElectricPrice\n",
        "\n",
        "Tính tiền điện theo bậc thang + VAT 10% (theo mô tả)."
      ]
    },
    {
      "cell_type": "code",
      "execution_count": null,
      "id": "5052936f",
      "metadata": {
        "id": "5052936f"
      },
      "outputs": [],
      "source": [
        "# Bậc thang theo đề\n",
        "TIERS = [\n",
        "    (100, 1242),\n",
        "    (50, 1304),\n",
        "    (50, 1651),\n",
        "    (100, 1788),\n",
        "    (100, 1912),\n",
        "    (float('inf'), 1962)\n",
        "]\n",
        "\n",
        "def electricity_payment(old_kwh:int, new_kwh:int, vat_rate:float=0.10):\n",
        "    used = new_kwh - old_kwh\n",
        "    if used < 0:\n",
        "        raise ValueError(\"Chỉ số mới phải >= chỉ số cũ\")\n",
        "    remain = used\n",
        "    cost = 0\n",
        "    for qty, price in TIERS:\n",
        "        take = min(remain, qty)\n",
        "        cost += take * price\n",
        "        remain -= take\n",
        "        if remain <= 0:\n",
        "            break\n",
        "    total = cost * (1 + vat_rate)\n",
        "    return used, cost, total\n",
        "\n",
        "# Ví dụ theo đề: 3 -> 190 (187 kWh)\n",
        "used, base, total = electricity_payment(3, 190, vat_rate=0.10)\n",
        "print(f\"The amount to pay for {used} kWh consumed in the month is {total:,.0f} VND (base={base:,.0f}).\")\n"
      ]
    },
    {
      "cell_type": "markdown",
      "id": "7a60429d",
      "metadata": {
        "id": "7a60429d"
      },
      "source": [
        "# CẤU TRÚC ĐIỀU KIỆN — Bài 7: PreviousDay\n",
        "\n",
        "Tìm ngày trước đó của d/m/y."
      ]
    },
    {
      "cell_type": "code",
      "execution_count": null,
      "id": "aec17cc6",
      "metadata": {
        "id": "aec17cc6"
      },
      "outputs": [],
      "source": [
        "def days_in_month(m:int, y:int):\n",
        "    if m in (1,3,5,7,8,10,12):\n",
        "        return 31\n",
        "    if m in (4,6,9,11):\n",
        "        return 30\n",
        "    # Tháng 2\n",
        "    return 29 if is_leap(y) else 28\n",
        "\n",
        "def previous_day(d:int, m:int, y:int):\n",
        "    if d == 1 and m == 1:\n",
        "        return (31, 12, y-1)\n",
        "    if d == 1:\n",
        "        pm = m - 1\n",
        "        pd = days_in_month(pm, y)\n",
        "        return (pd, pm, y)\n",
        "    return (d-1, m, y)\n",
        "\n",
        "# Ví dụ\n",
        "for d,m,y in [(1,2,2015), (1,1,2015), (18,10,2015)]:\n",
        "    pd, pm, py = previous_day(d,m,y)\n",
        "    print(f\"Previous day of {d}/{m}/{y} is {pd}/{pm}/{py}.\")\n"
      ]
    },
    {
      "cell_type": "markdown",
      "id": "6cfe98a9",
      "metadata": {
        "id": "6cfe98a9"
      },
      "source": [
        "# CẤU TRÚC ĐIỀU KIỆN — Bài 8: CheckTriangle\n",
        "\n",
        "Kiểm tra 3 cạnh có lập được tam giác."
      ]
    },
    {
      "cell_type": "code",
      "execution_count": null,
      "id": "1ab13e3c",
      "metadata": {
        "id": "1ab13e3c"
      },
      "outputs": [],
      "source": [
        "def is_triangle(a:float, b:float, c:float):\n",
        "    return a + b > c and a + c > b and b + c > a\n",
        "\n",
        "# Ví dụ\n",
        "print(\"5,3,4 ->\", is_triangle(5,3,4))\n",
        "print(\"1,2,3 ->\", is_triangle(1,2,3))\n"
      ]
    },
    {
      "cell_type": "markdown",
      "id": "59076228",
      "metadata": {
        "id": "59076228"
      },
      "source": [
        "# BÀI TẬP THÊM — Bài 1: MaxMin5\n",
        "\n",
        "Tìm giá trị lớn nhất và nhỏ nhất của 5 số."
      ]
    },
    {
      "cell_type": "code",
      "execution_count": null,
      "id": "9353eead",
      "metadata": {
        "id": "9353eead"
      },
      "outputs": [],
      "source": [
        "def max_min5(a,b,c,d,e):\n",
        "    arr = [a,b,c,d,e]\n",
        "    return min(arr), max(arr)\n",
        "\n",
        "# Ví dụ\n",
        "print(\"min,max của (1,5,6,2,8):\", max_min5(1,5,6,2,8))\n"
      ]
    },
    {
      "cell_type": "markdown",
      "id": "caa601f4",
      "metadata": {
        "id": "caa601f4"
      },
      "source": [
        "# BÀI TẬP THÊM — Bài 2: SolvQuadEq\n",
        "\n",
        "Giải phương trình bậc 2: ax^2 + bx + c = 0 (nghiệm thực)."
      ]
    },
    {
      "cell_type": "code",
      "execution_count": null,
      "id": "4babeec5",
      "metadata": {
        "id": "4babeec5"
      },
      "outputs": [],
      "source": [
        "import math\n",
        "\n",
        "def solve_quadratic(a: float, b: float, c: float):\n",
        "    if a == 0:\n",
        "        # về bậc 1: bx + c = 0\n",
        "        if b == 0:\n",
        "            if c == 0:\n",
        "                return \"Unlimited solutions\"\n",
        "            else:\n",
        "                return \"No solution\"\n",
        "        else:\n",
        "            return ( -c/b, )\n",
        "    # a != 0\n",
        "    delta = b*b - 4*a*c\n",
        "    if delta < 0:\n",
        "        return \"No solution\"\n",
        "    if delta == 0:\n",
        "        x = -b/(2*a)\n",
        "        return (round(x,2),)\n",
        "    sqrtD = math.sqrt(delta)\n",
        "    x1 = (-b - sqrtD)/(2*a)\n",
        "    x2 = (-b + sqrtD)/(2*a)\n",
        "    return (round(x1,2), round(x2,2))\n",
        "\n",
        "# Ví dụ\n",
        "print(solve_quadratic(0,0,0))\n",
        "print(solve_quadratic(1,-5,6))\n",
        "print(solve_quadratic(1,-2,1))\n",
        "print(solve_quadratic(1,9,1))\n"
      ]
    },
    {
      "cell_type": "markdown",
      "id": "622dfa7d",
      "metadata": {
        "id": "622dfa7d"
      },
      "source": [
        "# BÀI TẬP THÊM — Bài 3: TotalDayMonth\n",
        "\n",
        "Số ngày của tháng m/năm y."
      ]
    },
    {
      "cell_type": "code",
      "execution_count": null,
      "id": "4d2dec41",
      "metadata": {
        "id": "4d2dec41"
      },
      "outputs": [],
      "source": [
        "def total_day_month(m:int, y:int):\n",
        "    return days_in_month(m,y)\n",
        "\n",
        "# Ví dụ\n",
        "print(\"Thang 1/2015:\", total_day_month(1,2015))\n"
      ]
    },
    {
      "cell_type": "markdown",
      "id": "dbac8a7e",
      "metadata": {
        "id": "dbac8a7e"
      },
      "source": [
        "# BÀI TẬP THÊM — Bài 4: MaxDigit (n có 4 chữ số)\n",
        "\n",
        "Tìm chữ số lớn nhất của n (4 chữ số)."
      ]
    },
    {
      "cell_type": "code",
      "execution_count": null,
      "id": "ae3e9ae8",
      "metadata": {
        "id": "ae3e9ae8"
      },
      "outputs": [],
      "source": [
        "def max_digit_4(n:int):\n",
        "    assert 1000 <= n <= 9999, \"n phải có đúng 4 chữ số\"\n",
        "    return max(int(ch) for ch in str(n))\n",
        "\n",
        "# Ví dụ\n",
        "print(\"Max digit 2387:\", max_digit_4(2387))\n"
      ]
    },
    {
      "cell_type": "markdown",
      "id": "b4a2878f",
      "metadata": {
        "id": "b4a2878f"
      },
      "source": [
        "# BÀI TẬP THÊM — Bài 5: GPA\n",
        "\n",
        "DTB = (Toán*2 + Lý*3 + Hóa)/6. Xếp loại: 8–10 Giỏi, 6.5–<8 Khá, 5–<6.5 Trung bình, <5 Yếu."
      ]
    },
    {
      "cell_type": "code",
      "execution_count": null,
      "id": "d3279aa4",
      "metadata": {
        "id": "d3279aa4"
      },
      "outputs": [],
      "source": [
        "def gpa(math: float, phys: float, chem: float):\n",
        "    dtb = (math*2 + phys*3 + chem) / 6.0\n",
        "    if 8 <= dtb <= 10:\n",
        "        rating = \"Good\"\n",
        "    elif 6.5 <= dtb < 8:\n",
        "        rating = \"Pretty\"\n",
        "    elif 5 <= dtb < 6.5:\n",
        "        rating = \"Average\"\n",
        "    else:\n",
        "        rating = \"Weak\"\n",
        "    return round(dtb,2), rating\n",
        "\n",
        "# Ví dụ\n",
        "print(\"GPA(7,6,8):\", gpa(7,6,8))\n"
      ]
    },
    {
      "cell_type": "markdown",
      "id": "b46f1d3f",
      "metadata": {
        "id": "b46f1d3f"
      },
      "source": [
        "# BÀI TẬP THÊM — Bài 6: WaterPayment\n",
        "\n",
        "Tính tiền nước theo định mức **mỗi người**: 4 m³ đầu 4.400đ, 2 m³ tiếp 8.300đ, còn lại 10.500đ.\n",
        "- Đề có nhắc VAT 5% và phí môi trường 10%, **nhưng ví dụ mẫu 2 m³ = 8.800đ không cộng phí**.\n",
        "- Hàm dưới đây cho phép chọn có áp phí hay không (mặc định **không áp** để trùng ví dụ)."
      ]
    },
    {
      "cell_type": "code",
      "execution_count": null,
      "id": "67d10267",
      "metadata": {
        "id": "67d10267"
      },
      "outputs": [],
      "source": [
        "def water_payment(old_m3:int, new_m3:int, people:int=1, apply_fees:bool=False):\n",
        "    used = new_m3 - old_m3\n",
        "    if used < 0:\n",
        "        raise ValueError(\"Chỉ số mới phải >= chỉ số cũ\")\n",
        "    # định mức tổng cho hộ\n",
        "    quota1 = 4 * people\n",
        "    quota2 = 2 * people\n",
        "    remain = used\n",
        "    base = 0\n",
        "    # 4 m3 đầu / người\n",
        "    take = min(remain, quota1)\n",
        "    base += take * 4400\n",
        "    remain -= take\n",
        "    # 2 m3 kế tiếp / người\n",
        "    if remain > 0:\n",
        "        take = min(remain, quota2)\n",
        "        base += take * 8300\n",
        "        remain -= take\n",
        "    # còn lại\n",
        "    if remain > 0:\n",
        "        base += remain * 10500\n",
        "    if not apply_fees:\n",
        "        return used, base\n",
        "    # VAT 5% + phí MT 10% (cộng trên base)\n",
        "    total = round(base * (1 + 0.05 + 0.10))\n",
        "    return used, total\n",
        "\n",
        "# Ví dụ theo đề: 1 -> 3 m3 (dùng 2 m3), 1 người, không áp phí\n",
        "print(\"Payment demo:\", water_payment(1,3,people=1,apply_fees=False))\n"
      ]
    },
    {
      "cell_type": "markdown",
      "id": "53d7e072",
      "metadata": {
        "id": "53d7e072"
      },
      "source": [
        "# BÀI TẬP THÊM — Bài 7: NextDay\n",
        "\n",
        "Ngày sau của d/m/y."
      ]
    },
    {
      "cell_type": "code",
      "execution_count": null,
      "id": "8690930b",
      "metadata": {
        "id": "8690930b"
      },
      "outputs": [],
      "source": [
        "def next_day(d:int, m:int, y:int):\n",
        "    dim = days_in_month(m,y)\n",
        "    if d < dim:\n",
        "        return (d+1, m, y)\n",
        "    # d == dim\n",
        "    if m == 12:\n",
        "        return (1, 1, y+1)\n",
        "    return (1, m+1, y)\n",
        "\n",
        "# Ví dụ\n",
        "for d,m,y in [(31,1,2015), (28,2,2015), (29,2,2016), (30,4,2020)]:\n",
        "    nd, nm, ny = next_day(d,m,y)\n",
        "    print(f\"Next day of {d}/{m}/{y} is {nd}/{nm}/{ny}.\")\n"
      ]
    },
    {
      "cell_type": "markdown",
      "id": "76427216",
      "metadata": {
        "id": "76427216"
      },
      "source": [
        "# BÀI TẬP THÊM — Bài 8: NumberInfo\n",
        "\n",
        "Với n < 1000: (a) số chữ số, (b) tổng chữ số, (c) chữ số cuối, (d) chữ số đầu."
      ]
    },
    {
      "cell_type": "code",
      "execution_count": null,
      "id": "c85672b6",
      "metadata": {
        "id": "c85672b6"
      },
      "outputs": [],
      "source": [
        "def number_info(n:int):\n",
        "    assert 0 <= n < 1000, \"n phải là số tự nhiên < 1000\"\n",
        "    s = str(n)\n",
        "    ndigits = len(s)\n",
        "    ssum = sum(int(ch) for ch in s)\n",
        "    last = int(s[-1])\n",
        "    first = int(s[0])\n",
        "    return ndigits, ssum, last, first\n",
        "\n",
        "# Ví dụ\n",
        "n=156\n",
        "nd, ss, last, first = number_info(n)\n",
        "print(f\"\"\"{n} has {nd} digits.\n",
        "1 + 5 + 6 = {ss}.\n",
        "Last digit is {last}.\n",
        "Fist digit is {first}.\"\"\")\n"
      ]
    },
    {
      "cell_type": "markdown",
      "id": "e4a9a43d",
      "metadata": {
        "id": "e4a9a43d"
      },
      "source": [
        "# CẤU TRÚC LẶP VÀ LIST — Bài 1: Sắp xếp chuỗi số\n",
        "\n",
        "Sắp xếp theo **string compare** và **integer compare**."
      ]
    },
    {
      "cell_type": "code",
      "execution_count": null,
      "id": "2b641ce7",
      "metadata": {
        "id": "2b641ce7"
      },
      "outputs": [],
      "source": [
        "def sort_string_numbers(A):\n",
        "    by_string = sorted(A)                 # so sánh từ điển\n",
        "    by_integer = sorted(A, key=lambda x: int(x))  # so sánh theo trị số nguyên\n",
        "    return by_string, by_integer\n",
        "\n",
        "# Ví dụ\n",
        "A = ['3','27','5','123','9','1']\n",
        "print(sort_string_numbers(A))\n"
      ]
    },
    {
      "cell_type": "markdown",
      "id": "3e5e520d",
      "metadata": {
        "id": "3e5e520d"
      },
      "source": [
        "# CẤU TRÚC LẶP VÀ LIST — Bài 2: Xóa theo vị trí 1,2,3,6\n",
        "\n",
        "Xóa các phần tử tại **vị trí** 1,2,3,6 (đánh số từ 1) trong `[12,24,35,70,88,120,155]`."
      ]
    },
    {
      "cell_type": "code",
      "execution_count": null,
      "id": "54fcfd86",
      "metadata": {
        "id": "54fcfd86"
      },
      "outputs": [],
      "source": [
        "def remove_positions(lst, positions_1_based):\n",
        "    keep = [item for idx, item in enumerate(lst, start=1) if idx not in positions_1_based]\n",
        "    return keep\n",
        "\n",
        "# Ví dụ\n",
        "lst = [12,24,35,70,88,120,155]\n",
        "print(remove_positions(lst, {1,2,3,6}))\n"
      ]
    },
    {
      "cell_type": "markdown",
      "id": "ae4a50f9",
      "metadata": {
        "id": "ae4a50f9"
      },
      "source": [
        "# CẤU TRÚC LẶP VÀ LIST — Bài 3: Xóa trùng\n",
        "\n",
        "Xóa phần tử trùng trong list **không dùng dict/set**."
      ]
    },
    {
      "cell_type": "code",
      "execution_count": null,
      "id": "95daf367",
      "metadata": {
        "id": "95daf367"
      },
      "outputs": [],
      "source": [
        "def dedup_list(lst):\n",
        "    out = []\n",
        "    for x in lst:\n",
        "        found = False\n",
        "        for y in out:\n",
        "            if x == y:\n",
        "                found = True\n",
        "                break\n",
        "        if not found:\n",
        "            out.append(x)\n",
        "    return out\n",
        "\n",
        "# Ví dụ\n",
        "A = [1,2,3,1,2,5,6,7,8]\n",
        "print(dedup_list(A))\n"
      ]
    },
    {
      "cell_type": "markdown",
      "id": "c7e2d69a",
      "metadata": {
        "id": "c7e2d69a"
      },
      "source": [
        "# CẤU TRÚC LẶP VÀ LIST — Bài 4: Đếm số lần xuất hiện\n",
        "\n",
        "Đếm số lần xuất hiện **không dùng dict/collections**."
      ]
    },
    {
      "cell_type": "code",
      "execution_count": null,
      "id": "ee57a402",
      "metadata": {
        "id": "ee57a402"
      },
      "outputs": [],
      "source": [
        "def count_occurrences(lst):\n",
        "    counted = []\n",
        "    result = []\n",
        "    for x in lst:\n",
        "        # nếu chưa đếm\n",
        "        if x not in counted:\n",
        "            # đếm\n",
        "            cnt = 0\n",
        "            for y in lst:\n",
        "                if y == x:\n",
        "                    cnt += 1\n",
        "            result.append((x, cnt))\n",
        "            counted.append(x)\n",
        "    return result\n",
        "\n",
        "# Ví dụ\n",
        "A = [1,1,1,1,2,2,2,2,3,3,4,5,5]\n",
        "print(count_occurrences(A))\n"
      ]
    }
  ],
  "metadata": {
    "colab": {
      "provenance": [],
      "include_colab_link": true
    }
  },
  "nbformat": 4,
  "nbformat_minor": 5
}