{
 "cells": [
  {
   "cell_type": "markdown",
   "id": "63654674",
   "metadata": {},
   "source": [
    "## Models and Algorithms\n",
    "*1. How to Create/Run a Jupyter Notebook* \n",
    "   * If you are using you own laptop\n",
    "       *  instal all the needed packages  individually for python can be a bit difficult, we recommend Anacond (https://www.anaconda.com/products/distribution) \n",
    "       * Open \"Anaconda-Navigator\" and then selecting \"Jupyter Notebook\". Or you can also start it from the Anaconda Prompt command line: jupyter notebook \n",
    "       * Jupyter notebook is a programming environment that runs in a web browser. need a reasonably up-to-date browser, Chrome/Firefox should work\n",
    "       * If you see a new browser output with the label \"Jupyter\" on the left top of the screen, you have already opened the notebook successfully.\n",
    "\n",
    "*2. Random Seed, and random splitting to form a traning set and a test set*\n",
    "\n",
    "*3. Review of Classification Models and Algorithms-using Scikit-learn (https://scikit-learn.org/stable/supervised_learning.html#supervised-learning)*\n",
    "\n",
    "   * [ ] K Nearest Neighbours\n",
    "   * [ ] Perceptron and Multilayer Perceptron\n",
    "   * [ ] Naive Bayes Classifier\n",
    "   * [ ] Support Vector Machine\n",
    "   * [ ] Decision Tree\n",
    "   * [ ] Boosting\n",
    "   * [ ] Random Forests\n",
    "   \n"
   ]
  },
  {
   "cell_type": "code",
   "execution_count": 40,
   "id": "a367b627",
   "metadata": {},
   "outputs": [
    {
     "data": {
      "text/plain": [
       "(150, 4)"
      ]
     },
     "execution_count": 40,
     "metadata": {},
     "output_type": "execute_result"
    }
   ],
   "source": [
    "#import the \n",
    "from sklearn import datasets\n",
    "import pandas as pd\n",
    "import numpy as np\n",
    "import matplotlib.pyplot as plt\n",
    "iris = datasets.load_iris()\n",
    "#data # this is like a dict so far, not a dataframe...\n",
    "\n",
    "x = iris.data\n",
    "labels =  iris.target\n",
    "x.shape"
   ]
  },
  {
   "cell_type": "code",
   "execution_count": 39,
   "id": "acc33afb",
   "metadata": {},
   "outputs": [
    {
     "name": "stdout",
     "output_type": "stream",
     "text": [
      "0.5197779418935203\n"
     ]
    }
   ],
   "source": [
    "#Random number generator need a seed\n",
    "#supply a specific seed to the random generator,\n",
    "#you will get the same numbers every time you execute a program\n",
    "import random\n",
    "\n",
    "random.seed(130)\n",
    "print(random.random())\n",
    "\n"
   ]
  },
  {
   "cell_type": "code",
   "execution_count": 3,
   "id": "8a15413d",
   "metadata": {},
   "outputs": [
    {
     "name": "stdout",
     "output_type": "stream",
     "text": [
      "0.5262592017085583\n"
     ]
    }
   ],
   "source": [
    "import numpy.random as rng # random number generator\n",
    "\n",
    "print(rng.random())\n",
    "#random_state simply sets a seed to the random generato\n",
    "#rn = rng.RandomState(10)\n",
    "#print(rn.random())\n",
    "\n"
   ]
  },
  {
   "cell_type": "code",
   "execution_count": 64,
   "id": "f147a285",
   "metadata": {},
   "outputs": [
    {
     "data": {
      "text/plain": [
       "array([[5.7, 2.8, 4.1, 1.3],\n",
       "       [7. , 3.2, 4.7, 1.4],\n",
       "       [6.1, 2.8, 4. , 1.3],\n",
       "       [6.7, 3.3, 5.7, 2.5],\n",
       "       [5. , 3.2, 1.2, 0.2],\n",
       "       [5.6, 2.7, 4.2, 1.3],\n",
       "       [6.5, 3. , 5.5, 1.8],\n",
       "       [5. , 3.5, 1.6, 0.6],\n",
       "       [6.3, 2.8, 5.1, 1.5],\n",
       "       [4.8, 3.1, 1.6, 0.2],\n",
       "       [4.9, 3.6, 1.4, 0.1],\n",
       "       [4.8, 3. , 1.4, 0.3],\n",
       "       [5. , 2. , 3.5, 1. ],\n",
       "       [5.5, 2.6, 4.4, 1.2],\n",
       "       [4.9, 2.4, 3.3, 1. ],\n",
       "       [5. , 3.4, 1.6, 0.4],\n",
       "       [5.8, 2.6, 4. , 1.2],\n",
       "       [6.8, 3. , 5.5, 2.1],\n",
       "       [6.6, 3. , 4.4, 1.4],\n",
       "       [5.1, 3.8, 1.9, 0.4],\n",
       "       [6.1, 2.8, 4.7, 1.2],\n",
       "       [6.3, 2.7, 4.9, 1.8],\n",
       "       [5.1, 3.4, 1.5, 0.2],\n",
       "       [7.6, 3. , 6.6, 2.1],\n",
       "       [5. , 3.4, 1.5, 0.2],\n",
       "       [6.5, 3. , 5.2, 2. ],\n",
       "       [5.4, 3. , 4.5, 1.5],\n",
       "       [6.3, 3.3, 6. , 2.5],\n",
       "       [5. , 3.3, 1.4, 0.2],\n",
       "       [6.6, 2.9, 4.6, 1.3],\n",
       "       [5.1, 3.5, 1.4, 0.2],\n",
       "       [6.7, 3.3, 5.7, 2.1],\n",
       "       [4.6, 3.2, 1.4, 0.2],\n",
       "       [4.9, 3.1, 1.5, 0.1],\n",
       "       [7.2, 3.2, 6. , 1.8],\n",
       "       [6.4, 3.2, 4.5, 1.5],\n",
       "       [6.3, 3.4, 5.6, 2.4],\n",
       "       [5.5, 3.5, 1.3, 0.2],\n",
       "       [7.7, 3. , 6.1, 2.3],\n",
       "       [5.7, 2.5, 5. , 2. ],\n",
       "       [7.7, 3.8, 6.7, 2.2],\n",
       "       [6.4, 2.9, 4.3, 1.3],\n",
       "       [6.2, 3.4, 5.4, 2.3],\n",
       "       [6.5, 3. , 5.8, 2.2],\n",
       "       [6.4, 3.1, 5.5, 1.8],\n",
       "       [4.9, 3.1, 1.5, 0.2],\n",
       "       [4.4, 2.9, 1.4, 0.2],\n",
       "       [5.6, 3. , 4.1, 1.3],\n",
       "       [4.7, 3.2, 1.6, 0.2],\n",
       "       [5.9, 3. , 5.1, 1.8],\n",
       "       [6.4, 2.8, 5.6, 2.2],\n",
       "       [5. , 3.5, 1.3, 0.3],\n",
       "       [6. , 3.4, 4.5, 1.6],\n",
       "       [6.1, 2.6, 5.6, 1.4],\n",
       "       [5.1, 3.8, 1.5, 0.3],\n",
       "       [6.2, 2.9, 4.3, 1.3],\n",
       "       [5.6, 2.8, 4.9, 2. ],\n",
       "       [5.4, 3.7, 1.5, 0.2],\n",
       "       [4.9, 3. , 1.4, 0.2],\n",
       "       [6. , 2.7, 5.1, 1.6],\n",
       "       [5.8, 2.7, 4.1, 1. ],\n",
       "       [5.6, 3. , 4.5, 1.5],\n",
       "       [5.3, 3.7, 1.5, 0.2],\n",
       "       [6.9, 3.2, 5.7, 2.3],\n",
       "       [5.7, 4.4, 1.5, 0.4],\n",
       "       [7.1, 3. , 5.9, 2.1],\n",
       "       [7.9, 3.8, 6.4, 2. ],\n",
       "       [4.8, 3. , 1.4, 0.1],\n",
       "       [5.5, 2.3, 4. , 1.3],\n",
       "       [6.2, 2.2, 4.5, 1.5],\n",
       "       [5.4, 3.4, 1.5, 0.4],\n",
       "       [5.8, 2.8, 5.1, 2.4],\n",
       "       [6.4, 2.8, 5.6, 2.1],\n",
       "       [5.1, 3.5, 1.4, 0.3],\n",
       "       [5.1, 2.5, 3. , 1.1],\n",
       "       [6.9, 3.1, 4.9, 1.5],\n",
       "       [6.3, 3.3, 4.7, 1.6],\n",
       "       [6.8, 2.8, 4.8, 1.4],\n",
       "       [6.8, 3.2, 5.9, 2.3],\n",
       "       [4.6, 3.6, 1. , 0.2],\n",
       "       [5.5, 2.5, 4. , 1.3],\n",
       "       [6.1, 3. , 4.6, 1.4],\n",
       "       [6. , 2.9, 4.5, 1.5],\n",
       "       [6.7, 3. , 5. , 1.7],\n",
       "       [6.9, 3.1, 5.4, 2.1],\n",
       "       [6.3, 2.3, 4.4, 1.3],\n",
       "       [4.5, 2.3, 1.3, 0.3],\n",
       "       [5.7, 2.6, 3.5, 1. ],\n",
       "       [7.7, 2.8, 6.7, 2. ],\n",
       "       [4.4, 3. , 1.3, 0.2],\n",
       "       [7.3, 2.9, 6.3, 1.8],\n",
       "       [4.8, 3.4, 1.9, 0.2],\n",
       "       [6. , 2.2, 5. , 1.5],\n",
       "       [5. , 3. , 1.6, 0.2],\n",
       "       [5.7, 3.8, 1.7, 0.3],\n",
       "       [6.1, 3. , 4.9, 1.8],\n",
       "       [5.8, 4. , 1.2, 0.2],\n",
       "       [5.6, 2.9, 3.6, 1.3],\n",
       "       [6. , 2.2, 4. , 1. ],\n",
       "       [5. , 3.6, 1.4, 0.2],\n",
       "       [4.9, 2.5, 4.5, 1.7],\n",
       "       [6.7, 3.1, 4.7, 1.5],\n",
       "       [5.5, 2.4, 3.7, 1. ],\n",
       "       [6.4, 2.7, 5.3, 1.9],\n",
       "       [5.5, 4.2, 1.4, 0.2]])"
      ]
     },
     "execution_count": 64,
     "metadata": {},
     "output_type": "execute_result"
    }
   ],
   "source": [
    "from sklearn.model_selection import train_test_split\n",
    "\n",
    "ta_x, te_x, ta_y, te_y = train_test_split(x, labels, test_size=0.3, random_state=309)#,shuffle=True)\n",
    "ta_x.shape\n",
    "ta_x\n",
    "#ta_y.shape"
   ]
  },
  {
   "cell_type": "code",
   "execution_count": 5,
   "id": "422cef34",
   "metadata": {},
   "outputs": [
    {
     "data": {
      "text/plain": [
       "(45, 4)"
      ]
     },
     "execution_count": 5,
     "metadata": {},
     "output_type": "execute_result"
    }
   ],
   "source": [
    "te_x.shape\n",
    "#te_x\n",
    "#te_y.shape"
   ]
  },
  {
   "cell_type": "code",
   "execution_count": 74,
   "id": "560856bb",
   "metadata": {},
   "outputs": [
    {
     "name": "stdout",
     "output_type": "stream",
     "text": [
      "Predictions:[0]\n"
     ]
    }
   ],
   "source": [
    "#KNN, setting k - \"n_neighbors\" \n",
    "from sklearn.neighbors import KNeighborsClassifier\n",
    "neigh = KNeighborsClassifier(n_neighbors=3)#, weights=\"distance\")# by default-\"uniform\"\n",
    "neigh.fit(ta_x, ta_y)\n",
    "pre_y = neigh.predict(te_x[0:1])\n",
    "print(\"Predictions:\"+str(pre_y))\n",
    "#print(\"Labels     :\"+str(te_y))\n",
    "#neigh.predict(te_x[20:30])\n",
    "#neigh.predict_proba(te_x[20:30])"
   ]
  },
  {
   "cell_type": "code",
   "execution_count": 75,
   "id": "28e04d1a",
   "metadata": {},
   "outputs": [
    {
     "data": {
      "text/plain": [
       "array([[-0.38434114,  0.62864966, -1.85163571, -0.77584868],\n",
       "       [ 0.4128315 , -0.3567411 , -0.1183598 , -0.4925446 ],\n",
       "       [-0.02849036, -0.27190856,  1.9699955 ,  1.26839328]])"
      ]
     },
     "execution_count": 75,
     "metadata": {},
     "output_type": "execute_result"
    }
   ],
   "source": [
    "from sklearn.linear_model import LogisticRegression\n",
    "\n",
    "# Create an instance of Logistic Regression Classifier and fit the data.\n",
    "logreg = LogisticRegression(C=0.5)\n",
    "logreg.fit(ta_x, ta_y)\n",
    "logreg.coef_\n"
   ]
  },
  {
   "cell_type": "code",
   "execution_count": 77,
   "id": "9f055c8c",
   "metadata": {},
   "outputs": [
    {
     "data": {
      "text/plain": [
       "array([[-0.35669571,  0.49562204, -1.56052   , -0.64440514],\n",
       "       [ 0.28955789, -0.35874226, -0.04077976, -0.36928318],\n",
       "       [ 0.06713782, -0.13687979,  1.60129976,  1.01368832]])"
      ]
     },
     "execution_count": 77,
     "metadata": {},
     "output_type": "execute_result"
    }
   ],
   "source": [
    "logreg = LogisticRegression(C=0.3)\n",
    "logreg.fit(ta_x, ta_y)\n",
    "logreg.coef_"
   ]
  },
  {
   "cell_type": "code",
   "execution_count": 86,
   "id": "a1b8f3fe",
   "metadata": {},
   "outputs": [
    {
     "name": "stdout",
     "output_type": "stream",
     "text": [
      "Predictions:[0 2 0 0 2]\n",
      "Labels     :[0 2 0 0 2]\n"
     ]
    }
   ],
   "source": [
    "logreg = LogisticRegression(C=1, max_iter=120)\n",
    "logreg.fit(ta_x, ta_y)\n",
    "logreg.coef_\n",
    "logreg_pre_y = logreg.predict(te_x[0:5])\n",
    "print(\"Predictions:\"+str(logreg_pre_y))\n",
    "print(\"Labels     :\"+str(te_y[0:5]))"
   ]
  },
  {
   "cell_type": "code",
   "execution_count": 87,
   "id": "44f04695-0c4d-4fab-80a7-3a392e1d8353",
   "metadata": {},
   "outputs": [
    {
     "data": {
      "text/plain": [
       "array([[9.75076904e-01, 2.49228921e-02, 2.04342048e-07],\n",
       "       [2.45461826e-06, 1.32810678e-02, 9.86716478e-01],\n",
       "       [9.69798386e-01, 3.02013407e-02, 2.73561995e-07],\n",
       "       [9.60551305e-01, 3.94482676e-02, 4.27617478e-07],\n",
       "       [3.70084827e-06, 5.23253860e-02, 9.47670913e-01]])"
      ]
     },
     "execution_count": 87,
     "metadata": {},
     "output_type": "execute_result"
    }
   ],
   "source": [
    "logreg.predict_proba(te_x[0:5])"
   ]
  },
  {
   "cell_type": "code",
   "execution_count": 11,
   "id": "fc41b794-4859-41c1-b5b1-d6c98c158e9a",
   "metadata": {},
   "outputs": [
    {
     "name": "stdout",
     "output_type": "stream",
     "text": [
      "Predictions:[0 2 0 1 2]\n",
      "Labels     :[0 1 0 1 2]\n"
     ]
    }
   ],
   "source": [
    "from sklearn.linear_model import Perceptron\n",
    "clf = Perceptron(tol=1e-3, random_state=0)#The stopping criterion, the iterations will stop when loss > previous_loss - tol.\n",
    "clf.fit(ta_x, ta_y)\n",
    "clf_pre_y = clf.predict(te_x[0:5])\n",
    "print(\"Predictions:\"+str(clf_pre_y))\n",
    "print(\"Labels     :\"+str(te_y[0:5]))"
   ]
  },
  {
   "cell_type": "code",
   "execution_count": 88,
   "id": "54cc1023-1862-4460-a06c-942475e8b05a",
   "metadata": {},
   "outputs": [
    {
     "data": {
      "text/plain": [
       "array([[  14.74,  -14.53, -167.68],\n",
       "       [ -16.74,   -4.32,   87.99],\n",
       "       [  12.96,   -7.06, -155.16],\n",
       "       [  14.84,  -14.57, -171.47],\n",
       "       [ -17.38,   28.7 ,   75.03]])"
      ]
     },
     "execution_count": 88,
     "metadata": {},
     "output_type": "execute_result"
    }
   ],
   "source": [
    "clf.decision_function(te_x[0:5]) #Predict confidence scores for samples."
   ]
  },
  {
   "cell_type": "code",
   "execution_count": 91,
   "id": "37df3c68-468f-4304-a817-f9b28a641b4a",
   "metadata": {},
   "outputs": [
    {
     "name": "stderr",
     "output_type": "stream",
     "text": [
      "/Users/chenqi1/opt/anaconda3/lib/python3.9/site-packages/sklearn/neural_network/_multilayer_perceptron.py:692: ConvergenceWarning: Stochastic Optimizer: Maximum iterations (100) reached and the optimization hasn't converged yet.\n",
      "  warnings.warn(\n"
     ]
    },
    {
     "data": {
      "text/plain": [
       "3"
      ]
     },
     "execution_count": 91,
     "metadata": {},
     "output_type": "execute_result"
    }
   ],
   "source": [
    "from sklearn.neural_network import MLPClassifier\n",
    "mlp_clf = MLPClassifier(random_state=0, max_iter=100,alpha=0.1, activation=\"logistic\")#float value, default=0.0001\n",
    "mlp_clf.fit(ta_x, ta_y)\n",
    "mlp_clf.predict(te_x[0:5])\n",
    "#mlp_clf.coefs_\n",
    "mlp_clf.n_layers_"
   ]
  },
  {
   "cell_type": "code",
   "execution_count": 93,
   "id": "cd77bc0e-db55-4297-8d82-3d3ccc1ef9c4",
   "metadata": {},
   "outputs": [
    {
     "data": {
      "text/plain": [
       "array([[0.74525465, 0.19233076, 0.06241459],\n",
       "       [0.05323164, 0.36018754, 0.58658082],\n",
       "       [0.72981752, 0.20417657, 0.06600592],\n",
       "       [0.73284064, 0.19988757, 0.06727179],\n",
       "       [0.04759231, 0.3698065 , 0.58260119],\n",
       "       [0.19462524, 0.43451038, 0.37086439],\n",
       "       [0.13261258, 0.42076395, 0.44662347],\n",
       "       [0.20964049, 0.44014899, 0.35021052],\n",
       "       [0.08041316, 0.39234713, 0.52723971],\n",
       "       [0.74105508, 0.19639111, 0.06255381],\n",
       "       [0.75591237, 0.18734757, 0.05674005],\n",
       "       [0.09899156, 0.40678499, 0.49422345],\n",
       "       [0.21149264, 0.43393678, 0.35457058],\n",
       "       [0.16170607, 0.43614228, 0.40215166],\n",
       "       [0.10953854, 0.41873104, 0.47173042],\n",
       "       [0.14081344, 0.431228  , 0.42795856],\n",
       "       [0.09045302, 0.41042373, 0.49912325],\n",
       "       [0.09045302, 0.41042373, 0.49912325],\n",
       "       [0.74973839, 0.19059491, 0.0596667 ],\n",
       "       [0.08337392, 0.40820447, 0.50842161],\n",
       "       [0.10231296, 0.42386439, 0.47382265],\n",
       "       [0.67334577, 0.2390538 , 0.08760042],\n",
       "       [0.0689124 , 0.39534528, 0.53574232],\n",
       "       [0.702613  , 0.22170187, 0.07568514],\n",
       "       [0.21393283, 0.43593026, 0.35013691],\n",
       "       [0.02476457, 0.32125874, 0.65397669],\n",
       "       [0.20918378, 0.43357451, 0.35724171],\n",
       "       [0.75815681, 0.18429953, 0.05754367],\n",
       "       [0.71882086, 0.21227187, 0.06890727],\n",
       "       [0.74367733, 0.19489452, 0.06142815],\n",
       "       [0.07566716, 0.39104166, 0.53329118],\n",
       "       [0.16667921, 0.43065512, 0.40266568],\n",
       "       [0.07461508, 0.39901909, 0.52636583],\n",
       "       [0.12116942, 0.42024045, 0.45859012],\n",
       "       [0.28083123, 0.429247  , 0.28992177],\n",
       "       [0.2139299 , 0.44071266, 0.34535744],\n",
       "       [0.06159756, 0.37654899, 0.56185345],\n",
       "       [0.74906098, 0.19189885, 0.05904017],\n",
       "       [0.1317854 , 0.42891675, 0.43929785],\n",
       "       [0.05495352, 0.38479295, 0.56025353],\n",
       "       [0.18470518, 0.43091444, 0.38438038],\n",
       "       [0.77712251, 0.17053099, 0.0523465 ],\n",
       "       [0.77048782, 0.17822434, 0.05128784],\n",
       "       [0.08131292, 0.39361154, 0.52507554],\n",
       "       [0.79717718, 0.1574393 , 0.04538351]])"
      ]
     },
     "execution_count": 93,
     "metadata": {},
     "output_type": "execute_result"
    }
   ],
   "source": [
    "mlp_clf.predict_proba(te_x)"
   ]
  },
  {
   "cell_type": "code",
   "execution_count": 94,
   "id": "ac4d6f3f-d827-49ff-b562-35422eff6bf9",
   "metadata": {},
   "outputs": [
    {
     "name": "stdout",
     "output_type": "stream",
     "text": [
      "[[3 4 0]\n",
      " [1 3 0]\n",
      " [0 1 4]\n",
      " [4 1 2]\n",
      " [4 2 4]\n",
      " [3 4 2]\n",
      " [4 2 4]\n",
      " [1 1 0]\n",
      " [1 1 1]\n",
      " [1 0 4]\n",
      " [1 0 0]\n",
      " [3 2 1]\n",
      " [0 3 1]\n",
      " [1 3 4]\n",
      " [0 1 3]\n",
      " [4 2 4]\n",
      " [0 3 1]\n",
      " [2 0 4]\n",
      " [1 2 2]\n",
      " [1 0 1]]\n",
      "[1 2 1 1 1]\n"
     ]
    }
   ],
   "source": [
    "from sklearn.naive_bayes import MultinomialNB\n",
    "\n",
    "rn = rng.RandomState(1)\n",
    "x = rn.randint(5, size=(20, 3))#generate some random int values, discrete features \n",
    "print(x)\n",
    "y = np.array([1, 2, 0, 1, 0, 2, 2, 1, 0, 1, 0, 1, 1, 1, 2, 1, 2, 1, 1, 2])\n",
    "nb_clf = MultinomialNB(alpha=1) #alpha - smoothing parameter =1\n",
    "nb_clf.fit(x, y)\n",
    "print(nb_clf.predict(x[0:5]))\n"
   ]
  },
  {
   "cell_type": "code",
   "execution_count": 16,
   "id": "cee9e940-ec5d-42ab-a71c-25f497b2c932",
   "metadata": {},
   "outputs": [
    {
     "data": {
      "text/plain": [
       "array([0, 2, 0, 2, 2])"
      ]
     },
     "execution_count": 16,
     "metadata": {},
     "output_type": "execute_result"
    }
   ],
   "source": [
    "from sklearn.svm import SVC\n",
    "svm_clf = SVC(kernel='rbf', C=0.03)#\"linear\", \"poly\",  C:Regularization parameter\n",
    "svm_clf.fit(ta_x, ta_y)\n",
    "svm_clf.predict(te_x[0:5])\n",
    "#SVC for multiclass classifcation: decision_function_shape \"one-over-rest\", “one-versus-one”\n",
    "#OVO-breaks down the multiclass problem into multiple binary classification problems\n",
    "#OVR-a binary classifier per each class #default\n"
   ]
  },
  {
   "cell_type": "code",
   "execution_count": 98,
   "id": "a94726ef-5709-4d3f-aaf0-2a29bc35d626",
   "metadata": {},
   "outputs": [
    {
     "name": "stdout",
     "output_type": "stream",
     "text": [
      "[0 1 0 0 1]\n"
     ]
    }
   ],
   "source": [
    "from sklearn.tree import DecisionTreeClassifier\n",
    "dt_clf = DecisionTreeClassifier(max_depth=1, random_state=0)#possible random at each split before finding the best split among them\n",
    "dt_clf.fit(ta_x, ta_y)\n",
    "print(dt_clf.predict(te_x[0:5]))"
   ]
  },
  {
   "cell_type": "code",
   "execution_count": 99,
   "id": "df1a9b35-44a8-411d-b530-d16d496e0a94",
   "metadata": {},
   "outputs": [
    {
     "data": {
      "image/png": "[encoded data removed]",
      "text/plain": [
       "<Figure size 432x288 with 1 Axes>"
      ]
     },
     "metadata": {
      "needs_background": "light"
     },
     "output_type": "display_data"
    }
   ],
   "source": [
    "from sklearn.tree import plot_tree\n",
    "plot_tree(dt_clf, filled=True)\n",
    "plt.show()"
   ]
  },
  {
   "cell_type": "code",
   "execution_count": 19,
   "id": "66337e86-e570-4168-96e9-8beb7f376eba",
   "metadata": {},
   "outputs": [
    {
     "data": {
      "text/plain": [
       "array([0, 2, 0, 1, 2])"
      ]
     },
     "execution_count": 19,
     "metadata": {},
     "output_type": "execute_result"
    }
   ],
   "source": [
    "from sklearn.ensemble import GradientBoostingClassifier\n",
    "gb_clf = GradientBoostingClassifier(n_estimators=100, max_depth=2, random_state=0)\n",
    "gb_clf.fit(ta_x, ta_y)\n",
    "gb_clf.predict(te_x[0:5])"
   ]
  },
  {
   "cell_type": "code",
   "execution_count": 20,
   "id": "04455a12-bf0d-4873-9fe6-7662749ab0ac",
   "metadata": {},
   "outputs": [
    {
     "data": {
      "image/png": "[encoded data removed]",
      "text/plain": [
       "<Figure size 432x288 with 1 Axes>"
      ]
     },
     "metadata": {
      "needs_background": "light"
     },
     "output_type": "display_data"
    }
   ],
   "source": [
    "sub_tree_50 = gb_clf.estimators_[50, 0]\n",
    "plot_tree(sub_tree_50, filled=True)\n",
    "plt.show()"
   ]
  },
  {
   "cell_type": "code",
   "execution_count": 21,
   "id": "bb94b388-d462-41a3-8913-fa70e2a68a8d",
   "metadata": {},
   "outputs": [
    {
     "name": "stdout",
     "output_type": "stream",
     "text": [
      "prediction     :[0 2 0 1 2 0 0 0 1 0 1 1 1 2 0 1 0 0 2 0 0 2 0 1 0 2 1 2 2 0 2 0 2 1 0 2 2\n",
      " 0 2 2 2 1 1 0 1]\n",
      "Labels     :[0 1 0 1 2 0 0 0 1 0 1 1 1 2 0 1 0 0 2 0 0 1 0 1 0 2 1 2 2 0 2 0 2 1 0 2 2\n",
      " 0 2 2 2 1 1 0 1]\n"
     ]
    }
   ],
   "source": [
    "from sklearn.ensemble import RandomForestClassifier\n",
    "rf_clf = RandomForestClassifier(n_estimators=500, max_depth=3, random_state=33)\n",
    "rf_clf.fit(ta_x, ta_y)\n",
    "pre_y = rf_clf.predict(te_x)\n",
    "print(\"prediction     :\"+str(pre_y))\n",
    "print(\"Labels     :\"+str(te_y))\n"
   ]
  },
  {
   "cell_type": "code",
   "execution_count": null,
   "id": "53f26c71-fc19-4e4a-b8e0-75fb68f96490",
   "metadata": {},
   "outputs": [],
   "source": []
  }
 ],
 "metadata": {
  "kernelspec": {
   "display_name": "Python 3 (ipykernel)",
   "language": "python",
   "name": "python3"
  },
  "language_info": {
   "codemirror_mode": {
    "name": "ipython",
    "version": 3
   },
   "file_extension": ".py",
   "mimetype": "text/x-python",
   "name": "python",
   "nbconvert_exporter": "python",
   "pygments_lexer": "ipython3",
   "version": "3.9.12"
  }
 },
 "nbformat": 4,
 "nbformat_minor": 5
}
